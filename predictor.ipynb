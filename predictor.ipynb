{
 "cells": [
  {
   "cell_type": "markdown",
   "id": "4dcae691",
   "metadata": {},
   "source": [
    "1) IMPORTS"
   ]
  },
  {
   "cell_type": "code",
   "execution_count": null,
   "id": "e60bcf17",
   "metadata": {},
   "outputs": [],
   "source": [
    "import numpy as np\n",
    "import matplotlib.pyplot as plt\n",
    "from Utils import plt_house_x, plt_contour_wgrad, plt_divergence, plt_gradients\n",
    "import pandas as pd\n",
    "import seaborn as sns\n",
    "import copy,math\n",
    "from sklearn.preprocessing import LabelEncoder, StandardScaler\n",
    "from sklearn.model_selection import train_test_split\n",
    "from sklearn.metrics import mean_squared_error, r2_score\n",
    "from tensorflow.keras.models import Sequential \n",
    "from tensorflow.keras import Model\n",
    "np.set_printoptions(precision=2)"
   ]
  },
  {
   "cell_type": "code",
   "execution_count": 2,
   "id": "e8f3707d",
   "metadata": {},
   "outputs": [],
   "source": [
    "test_set = pd.read_csv(r'C:\\Users\\nourm\\OneDrive\\Desktop\\PROJECTS\\Food_Delivery_Time_Predictor\\FDT_Predictor\\Dataset\\test.csv')\n",
    "\n",
    "train_set=pd.read_csv(r'C:\\Users\\nourm\\OneDrive\\Desktop\\PROJECTS\\Food_Delivery_Time_Predictor\\FDT_Predictor\\Dataset\\train.csv')"
   ]
  },
  {
   "cell_type": "markdown",
   "id": "d0d5db6b",
   "metadata": {},
   "source": [
    "STEP 2 -explore Data"
   ]
  },
  {
   "cell_type": "code",
   "execution_count": 3,
   "id": "8a701fe8",
   "metadata": {},
   "outputs": [
    {
     "name": "stdout",
     "output_type": "stream",
     "text": [
      "Dataset shape (45593, 20)\n",
      "\n",
      "Column names: ['ID', 'Delivery_person_ID', 'Delivery_person_Age', 'Delivery_person_Ratings', 'Restaurant_latitude', 'Restaurant_longitude', 'Delivery_location_latitude', 'Delivery_location_longitude', 'Order_Date', 'Time_Orderd', 'Time_Order_picked', 'Weatherconditions', 'Road_traffic_density', 'Vehicle_condition', 'Type_of_order', 'Type_of_vehicle', 'multiple_deliveries', 'Festival', 'City', 'Time_taken(min)']\n"
     ]
    }
   ],
   "source": [
    "print(\"Dataset shape\" , train_set.shape)\n",
    "\n",
    "print(\"\\nColumn names:\" ,train_set.columns.tolist())"
   ]
  },
  {
   "cell_type": "code",
   "execution_count": 4,
   "id": "d60b6747",
   "metadata": {},
   "outputs": [
    {
     "name": "stdout",
     "output_type": "stream",
     "text": [
      "        ID Delivery_person_ID Delivery_person_Age Delivery_person_Ratings  Restaurant_latitude  Restaurant_longitude  Delivery_location_latitude  Delivery_location_longitude  Order_Date Time_Orderd Time_Order_picked      Weatherconditions Road_traffic_density  Vehicle_condition Type_of_order Type_of_vehicle multiple_deliveries Festival            City Time_taken(min)\n",
      "0  0x4607     INDORES13DEL02                   37                     4.9            22.745049             75.892471                   22.765049                    75.912471  19-03-2022    11:30:00          11:45:00       conditions Sunny                High                   2        Snack      motorcycle                    0      No           Urban         (min) 24\n",
      "1  0xb379     BANGRES18DEL02                   34                     4.5            12.913041             77.683237                   13.043041                    77.813237  25-03-2022    19:45:00          19:50:00      conditions Stormy                 Jam                   2        Snack         scooter                    1      No   Metropolitian         (min) 33\n",
      "2  0x5d6d     BANGRES19DEL01                   23                     4.4            12.914264             77.678400                   12.924264                    77.688400  19-03-2022    08:30:00          08:45:00  conditions Sandstorms                 Low                   0       Drinks      motorcycle                    1      No           Urban         (min) 26\n",
      "3  0x7a6a    COIMBRES13DEL02                   38                     4.7            11.003669             76.976494                   11.053669                    77.026494  05-04-2022    18:00:00          18:10:00       conditions Sunny              Medium                   0       Buffet      motorcycle                    1      No   Metropolitian         (min) 21\n",
      "4  0x70a2     CHENRES12DEL01                   32                     4.6            12.972793             80.249982                   13.012793                    80.289982  26-03-2022    13:30:00          13:45:00      conditions Cloudy                High                   1        Snack         scooter                    1      No   Metropolitian         (min) 30\n"
     ]
    }
   ],
   "source": [
    "print(train_set.head().to_string())\n"
   ]
  },
  {
   "cell_type": "code",
   "execution_count": 5,
   "id": "6f6e778a",
   "metadata": {},
   "outputs": [
    {
     "name": "stdout",
     "output_type": "stream",
     "text": [
      "<class 'pandas.core.frame.DataFrame'>\n",
      "RangeIndex: 45593 entries, 0 to 45592\n",
      "Data columns (total 20 columns):\n",
      " #   Column                       Non-Null Count  Dtype  \n",
      "---  ------                       --------------  -----  \n",
      " 0   ID                           45593 non-null  object \n",
      " 1   Delivery_person_ID           45593 non-null  object \n",
      " 2   Delivery_person_Age          45593 non-null  object \n",
      " 3   Delivery_person_Ratings      45593 non-null  object \n",
      " 4   Restaurant_latitude          45593 non-null  float64\n",
      " 5   Restaurant_longitude         45593 non-null  float64\n",
      " 6   Delivery_location_latitude   45593 non-null  float64\n",
      " 7   Delivery_location_longitude  45593 non-null  float64\n",
      " 8   Order_Date                   45593 non-null  object \n",
      " 9   Time_Orderd                  45593 non-null  object \n",
      " 10  Time_Order_picked            45593 non-null  object \n",
      " 11  Weatherconditions            45593 non-null  object \n",
      " 12  Road_traffic_density         45593 non-null  object \n",
      " 13  Vehicle_condition            45593 non-null  int64  \n",
      " 14  Type_of_order                45593 non-null  object \n",
      " 15  Type_of_vehicle              45593 non-null  object \n",
      " 16  multiple_deliveries          45593 non-null  object \n",
      " 17  Festival                     45593 non-null  object \n",
      " 18  City                         45593 non-null  object \n",
      " 19  Time_taken(min)              45593 non-null  object \n",
      "dtypes: float64(4), int64(1), object(15)\n",
      "memory usage: 7.0+ MB\n"
     ]
    }
   ],
   "source": [
    "train_set.info()"
   ]
  },
  {
   "cell_type": "code",
   "execution_count": 6,
   "id": "f481befe",
   "metadata": {},
   "outputs": [
    {
     "data": {
      "text/html": [
       "<div>\n",
       "<style scoped>\n",
       "    .dataframe tbody tr th:only-of-type {\n",
       "        vertical-align: middle;\n",
       "    }\n",
       "\n",
       "    .dataframe tbody tr th {\n",
       "        vertical-align: top;\n",
       "    }\n",
       "\n",
       "    .dataframe thead th {\n",
       "        text-align: right;\n",
       "    }\n",
       "</style>\n",
       "<table border=\"1\" class=\"dataframe\">\n",
       "  <thead>\n",
       "    <tr style=\"text-align: right;\">\n",
       "      <th></th>\n",
       "      <th>Restaurant_latitude</th>\n",
       "      <th>Restaurant_longitude</th>\n",
       "      <th>Delivery_location_latitude</th>\n",
       "      <th>Delivery_location_longitude</th>\n",
       "      <th>Vehicle_condition</th>\n",
       "    </tr>\n",
       "  </thead>\n",
       "  <tbody>\n",
       "    <tr>\n",
       "      <th>count</th>\n",
       "      <td>45593.000000</td>\n",
       "      <td>45593.000000</td>\n",
       "      <td>45593.000000</td>\n",
       "      <td>45593.000000</td>\n",
       "      <td>45593.000000</td>\n",
       "    </tr>\n",
       "    <tr>\n",
       "      <th>mean</th>\n",
       "      <td>17.017729</td>\n",
       "      <td>70.231332</td>\n",
       "      <td>17.465186</td>\n",
       "      <td>70.845702</td>\n",
       "      <td>1.023359</td>\n",
       "    </tr>\n",
       "    <tr>\n",
       "      <th>std</th>\n",
       "      <td>8.185109</td>\n",
       "      <td>22.883647</td>\n",
       "      <td>7.335122</td>\n",
       "      <td>21.118812</td>\n",
       "      <td>0.839065</td>\n",
       "    </tr>\n",
       "    <tr>\n",
       "      <th>min</th>\n",
       "      <td>-30.905562</td>\n",
       "      <td>-88.366217</td>\n",
       "      <td>0.010000</td>\n",
       "      <td>0.010000</td>\n",
       "      <td>0.000000</td>\n",
       "    </tr>\n",
       "    <tr>\n",
       "      <th>25%</th>\n",
       "      <td>12.933284</td>\n",
       "      <td>73.170000</td>\n",
       "      <td>12.988453</td>\n",
       "      <td>73.280000</td>\n",
       "      <td>0.000000</td>\n",
       "    </tr>\n",
       "    <tr>\n",
       "      <th>50%</th>\n",
       "      <td>18.546947</td>\n",
       "      <td>75.898497</td>\n",
       "      <td>18.633934</td>\n",
       "      <td>76.002574</td>\n",
       "      <td>1.000000</td>\n",
       "    </tr>\n",
       "    <tr>\n",
       "      <th>75%</th>\n",
       "      <td>22.728163</td>\n",
       "      <td>78.044095</td>\n",
       "      <td>22.785049</td>\n",
       "      <td>78.107044</td>\n",
       "      <td>2.000000</td>\n",
       "    </tr>\n",
       "    <tr>\n",
       "      <th>max</th>\n",
       "      <td>30.914057</td>\n",
       "      <td>88.433452</td>\n",
       "      <td>31.054057</td>\n",
       "      <td>88.563452</td>\n",
       "      <td>3.000000</td>\n",
       "    </tr>\n",
       "  </tbody>\n",
       "</table>\n",
       "</div>"
      ],
      "text/plain": [
       "       Restaurant_latitude  Restaurant_longitude  Delivery_location_latitude  \\\n",
       "count         45593.000000          45593.000000                45593.000000   \n",
       "mean             17.017729             70.231332                   17.465186   \n",
       "std               8.185109             22.883647                    7.335122   \n",
       "min             -30.905562            -88.366217                    0.010000   \n",
       "25%              12.933284             73.170000                   12.988453   \n",
       "50%              18.546947             75.898497                   18.633934   \n",
       "75%              22.728163             78.044095                   22.785049   \n",
       "max              30.914057             88.433452                   31.054057   \n",
       "\n",
       "       Delivery_location_longitude  Vehicle_condition  \n",
       "count                 45593.000000       45593.000000  \n",
       "mean                     70.845702           1.023359  \n",
       "std                      21.118812           0.839065  \n",
       "min                       0.010000           0.000000  \n",
       "25%                      73.280000           0.000000  \n",
       "50%                      76.002574           1.000000  \n",
       "75%                      78.107044           2.000000  \n",
       "max                      88.563452           3.000000  "
      ]
     },
     "execution_count": 6,
     "metadata": {},
     "output_type": "execute_result"
    }
   ],
   "source": [
    "train_set.describe()"
   ]
  },
  {
   "cell_type": "code",
   "execution_count": 7,
   "id": "83fcceac",
   "metadata": {},
   "outputs": [
    {
     "data": {
      "text/plain": [
       "ID                             0\n",
       "Delivery_person_ID             0\n",
       "Delivery_person_Age            0\n",
       "Delivery_person_Ratings        0\n",
       "Restaurant_latitude            0\n",
       "Restaurant_longitude           0\n",
       "Delivery_location_latitude     0\n",
       "Delivery_location_longitude    0\n",
       "Order_Date                     0\n",
       "Time_Orderd                    0\n",
       "Time_Order_picked              0\n",
       "Weatherconditions              0\n",
       "Road_traffic_density           0\n",
       "Vehicle_condition              0\n",
       "Type_of_order                  0\n",
       "Type_of_vehicle                0\n",
       "multiple_deliveries            0\n",
       "Festival                       0\n",
       "City                           0\n",
       "Time_taken(min)                0\n",
       "dtype: int64"
      ]
     },
     "execution_count": 7,
     "metadata": {},
     "output_type": "execute_result"
    }
   ],
   "source": [
    "train_set.isnull().sum()"
   ]
  },
  {
   "cell_type": "code",
   "execution_count": 8,
   "id": "65dd689c",
   "metadata": {},
   "outputs": [
    {
     "data": {
      "text/plain": [
       "0"
      ]
     },
     "execution_count": 8,
     "metadata": {},
     "output_type": "execute_result"
    }
   ],
   "source": [
    "train_set.duplicated().sum()"
   ]
  },
  {
   "cell_type": "markdown",
   "id": "19039bcf",
   "metadata": {},
   "source": [
    "Data cleaning"
   ]
  },
  {
   "cell_type": "code",
   "execution_count": 9,
   "id": "dede7d49",
   "metadata": {},
   "outputs": [],
   "source": [
    "train_set.replace({\"NaN\": np.nan}, regex=True, inplace = True)\n",
    "#Replaces string \"NaN\" with actual np.nan."
   ]
  },
  {
   "cell_type": "markdown",
   "id": "0b60bd1a",
   "metadata": {},
   "source": [
    "drop ID columns(not useful for prediction)"
   ]
  },
  {
   "cell_type": "code",
   "execution_count": 10,
   "id": "00ed2e88",
   "metadata": {},
   "outputs": [],
   "source": [
    "train_set.drop('ID',axis=1,inplace=True)"
   ]
  },
  {
   "cell_type": "markdown",
   "id": "dcb9ece9",
   "metadata": {},
   "source": [
    "Change column types"
   ]
  },
  {
   "cell_type": "code",
   "execution_count": 11,
   "id": "1b0ea937",
   "metadata": {},
   "outputs": [],
   "source": [
    "train_set['Time_taken(min)'] = train_set['Time_taken(min)'].str.replace('(min)','')\n",
    "train_set=train_set.rename(columns={'Time_taken(min)':'Time_taken'})\n",
    "train_set['Time_taken'] =train_set['Time_taken'].astype(int)\n",
    "#Cleans the Time_taken(min) column → removes text (min), renames it → converts to integer."
   ]
  },
  {
   "cell_type": "code",
   "execution_count": 12,
   "id": "a3ff39a5",
   "metadata": {},
   "outputs": [],
   "source": [
    "train_set['Weatherconditions']=train_set['Weatherconditions'].str.replace('conditions','')"
   ]
  },
  {
   "cell_type": "markdown",
   "id": "2187a429",
   "metadata": {},
   "source": [
    "Feature Engineering"
   ]
  },
  {
   "cell_type": "code",
   "execution_count": 13,
   "id": "3b5611af",
   "metadata": {},
   "outputs": [],
   "source": [
    "from geopy.distance import geodesic\n",
    "\n",
    "def calculate_distance(row):\n",
    "    restaurant_coords = (row['Restaurant_latitude'], row['Restaurant_longitude'])\n",
    "    delivery_coords = (row['Delivery_location_latitude'], row['Delivery_location_longitude'])\n",
    "    return geodesic(restaurant_coords, delivery_coords).kilometers\n",
    "\n",
    "train_set['distance_km'] = train_set.apply(calculate_distance, axis=1)\n",
    "#axis=1 → tells pandas to apply the function row by row (if you used axis=0, it would apply it column by column)."
   ]
  },
  {
   "cell_type": "markdown",
   "id": "ecb9e8a9",
   "metadata": {},
   "source": [
    "Type conversions"
   ]
  },
  {
   "cell_type": "code",
   "execution_count": 14,
   "id": "1b8aa3c6",
   "metadata": {},
   "outputs": [],
   "source": [
    "train_set['Delivery_person_Age']=train_set['Delivery_person_Age'].astype(float)\n",
    "train_set['Delivery_person_Ratings']=train_set['Delivery_person_Ratings'].astype(float)"
   ]
  },
  {
   "cell_type": "code",
   "execution_count": 15,
   "id": "86b066e0",
   "metadata": {},
   "outputs": [
    {
     "name": "stderr",
     "output_type": "stream",
     "text": [
      "C:\\Users\\nourm\\AppData\\Local\\Temp\\ipykernel_23748\\3334419967.py:2: UserWarning: Parsing dates in %d-%m-%Y format when dayfirst=False (the default) was specified. Pass `dayfirst=True` or specify a format to silence this warning.\n",
      "  train_set['Order_Date']=pd.to_datetime(train_set['Order_Date'])\n"
     ]
    }
   ],
   "source": [
    "# Converting order_date dtype into datetime\n",
    "train_set['Order_Date']=pd.to_datetime(train_set['Order_Date'])\n",
    "\n",
    "# Creating three column for day,month and year\n",
    "train_set['Order_day']=train_set['Order_Date'].dt.day\n",
    "train_set['Order_month']=train_set['Order_Date'].dt.month\n",
    "train_set['Order_year']=train_set['Order_Date'].dt.year"
   ]
  },
  {
   "cell_type": "code",
   "execution_count": 16,
   "id": "9450defc",
   "metadata": {},
   "outputs": [],
   "source": [
    "# Shifting columns\n",
    "col = train_set.pop(\"Order_day\")\n",
    "train_set.insert(10,\"Order_day\",col)\n",
    "\n",
    "col = train_set.pop(\"Order_month\")\n",
    "train_set.insert(11,\"Order_month\",col)\n",
    "\n",
    "col = train_set.pop(\"Order_year\")\n",
    "train_set.insert(12,\"Order_year\",col)"
   ]
  },
  {
   "cell_type": "code",
   "execution_count": null,
   "id": "ad14ee98",
   "metadata": {},
   "outputs": [
    {
     "name": "stderr",
     "output_type": "stream",
     "text": [
      "C:\\Users\\nourm\\AppData\\Local\\Temp\\ipykernel_23748\\3487480426.py:2: UserWarning: Could not infer format, so each element will be parsed individually, falling back to `dateutil`. To ensure parsing is consistent and as-expected, please specify a format.\n",
      "  train_set['Time_Orderd']=pd.to_datetime(train_set['Time_Orderd'])\n"
     ]
    }
   ],
   "source": [
    "# Converting time_order dtype into datetime\n",
    "train_set['Time_Orderd']=pd.to_datetime(train_set['Time_Orderd'])\n",
    "\n",
    "# Creating two new column for hour and minute\n",
    "train_set['Hour_order']=train_set['Time_Orderd'].dt.hour\n",
    "train_set['Min_order']=train_set['Time_Orderd'].dt.minute"
   ]
  },
  {
   "cell_type": "code",
   "execution_count": 18,
   "id": "8b968034",
   "metadata": {},
   "outputs": [],
   "source": [
    "# Now Shifting columns\n",
    "col = train_set.pop(\"Hour_order\")\n",
    "train_set.insert(14,\"Hour_order\",col)\n",
    "\n",
    "col = train_set.pop(\"Min_order\")\n",
    "train_set.insert(15,\"Min_order\",col)"
   ]
  },
  {
   "cell_type": "code",
   "execution_count": 19,
   "id": "8fa72602",
   "metadata": {},
   "outputs": [
    {
     "name": "stderr",
     "output_type": "stream",
     "text": [
      "C:\\Users\\nourm\\AppData\\Local\\Temp\\ipykernel_23748\\3827799642.py:2: UserWarning: Could not infer format, so each element will be parsed individually, falling back to `dateutil`. To ensure parsing is consistent and as-expected, please specify a format.\n",
      "  train_set['Time_Order_picked']=pd.to_datetime(train_set['Time_Order_picked'])\n"
     ]
    }
   ],
   "source": [
    "# Converting time_order_picked dtype into datetime\n",
    "train_set['Time_Order_picked']=pd.to_datetime(train_set['Time_Order_picked'])\n",
    "\n",
    "# Creating two new column for hour and minute\n",
    "train_set['Hour_order_picked']=train_set['Time_Order_picked'].dt.hour\n",
    "train_set['Min_order_picked']=train_set['Time_Order_picked'].dt.minute"
   ]
  },
  {
   "cell_type": "code",
   "execution_count": 20,
   "id": "d048712e",
   "metadata": {},
   "outputs": [],
   "source": [
    "# Now Shifting columns\n",
    "col = train_set.pop(\"Hour_order_picked\")\n",
    "train_set.insert(17,\"Hour_order_picked\",col)\n",
    "\n",
    "col = train_set.pop(\"Min_order_picked\")\n",
    "train_set.insert(18,\"Min_order_picked\",col)"
   ]
  },
  {
   "cell_type": "markdown",
   "id": "912deaa4",
   "metadata": {},
   "source": [
    "handle missing data"
   ]
  },
  {
   "cell_type": "code",
   "execution_count": 21,
   "id": "2029cf31",
   "metadata": {},
   "outputs": [
    {
     "name": "stdout",
     "output_type": "stream",
     "text": [
      "Delivery_person_ID                0\n",
      "Delivery_person_Age            1854\n",
      "Delivery_person_Ratings        1908\n",
      "Restaurant_latitude               0\n",
      "Restaurant_longitude              0\n",
      "Delivery_location_latitude        0\n",
      "Delivery_location_longitude       0\n",
      "Order_Date                        0\n",
      "Time_Orderd                    1731\n",
      "Time_Order_picked                 0\n",
      "Order_day                         0\n",
      "Order_month                       0\n",
      "Order_year                        0\n",
      "Weatherconditions               616\n",
      "Hour_order                     1731\n",
      "Min_order                      1731\n",
      "Road_traffic_density            601\n",
      "Hour_order_picked                 0\n",
      "Min_order_picked                  0\n",
      "Vehicle_condition                 0\n",
      "Type_of_order                     0\n",
      "Type_of_vehicle                   0\n",
      "multiple_deliveries             993\n",
      "Festival                        228\n",
      "City                           1200\n",
      "Time_taken                        0\n",
      "distance_km                       0\n",
      "dtype: int64\n"
     ]
    }
   ],
   "source": [
    "# Shows how many missing values in each column\n",
    "print(train_set.isnull().sum())"
   ]
  },
  {
   "cell_type": "code",
   "execution_count": 22,
   "id": "e32ec7d4",
   "metadata": {},
   "outputs": [],
   "source": [
    "train_set['Delivery_person_Age'] = train_set['Delivery_person_Age'].fillna(train_set.Delivery_person_Age.median())\n",
    "train_set['Delivery_person_Ratings'] = train_set['Delivery_person_Ratings'].fillna(train_set.Delivery_person_Ratings.median())\n",
    "train_set['Time_Orderd'] = train_set['Time_Orderd'].fillna(train_set.Time_Orderd.mode()[0])\n",
    "train_set['Hour_order'] = train_set['Hour_order'].fillna(train_set.Hour_order.mode()[0])\n",
    "train_set['Min_order'] = train_set['Min_order'].fillna(train_set.Min_order.mode()[0])\n",
    "train_set['Weatherconditions'] = train_set['Weatherconditions'].fillna(train_set.Weatherconditions.mode()[0])\n",
    "train_set['Road_traffic_density'] = train_set['Road_traffic_density'].fillna(train_set.Road_traffic_density.mode()[0])\n",
    "train_set['multiple_deliveries'] = train_set['multiple_deliveries'].fillna(train_set.multiple_deliveries.mode()[0])\n",
    "train_set['Festival'] = train_set['Festival'].fillna(train_set.Festival.mode()[0])\n",
    "train_set['City'] = train_set['City'].fillna(train_set.City.mode()[0])"
   ]
  },
  {
   "cell_type": "code",
   "execution_count": 23,
   "id": "d3299ffc",
   "metadata": {},
   "outputs": [
    {
     "data": {
      "text/plain": [
       "Delivery_person_ID             0\n",
       "Delivery_person_Age            0\n",
       "Delivery_person_Ratings        0\n",
       "Restaurant_latitude            0\n",
       "Restaurant_longitude           0\n",
       "Delivery_location_latitude     0\n",
       "Delivery_location_longitude    0\n",
       "Order_Date                     0\n",
       "Time_Orderd                    0\n",
       "Time_Order_picked              0\n",
       "Order_day                      0\n",
       "Order_month                    0\n",
       "Order_year                     0\n",
       "Weatherconditions              0\n",
       "Hour_order                     0\n",
       "Min_order                      0\n",
       "Road_traffic_density           0\n",
       "Hour_order_picked              0\n",
       "Min_order_picked               0\n",
       "Vehicle_condition              0\n",
       "Type_of_order                  0\n",
       "Type_of_vehicle                0\n",
       "multiple_deliveries            0\n",
       "Festival                       0\n",
       "City                           0\n",
       "Time_taken                     0\n",
       "distance_km                    0\n",
       "dtype: int64"
      ]
     },
     "execution_count": 23,
     "metadata": {},
     "output_type": "execute_result"
    }
   ],
   "source": [
    "train_set.isnull().sum()"
   ]
  },
  {
   "cell_type": "markdown",
   "id": "5d3a6dde",
   "metadata": {},
   "source": [
    "label encoding of categorical features\n"
   ]
  },
  {
   "cell_type": "code",
   "execution_count": 24,
   "id": "f774465e",
   "metadata": {},
   "outputs": [],
   "source": [
    "\n",
    "#create label encoders\n",
    "\n",
    "weather_encoder = LabelEncoder()\n",
    "traffic_encoder = LabelEncoder()\n",
    "festival_encoder = LabelEncoder()\n",
    "city_encoder = LabelEncoder()\n",
    "\n",
    "#transform labels into encoded data\n",
    "\n",
    "train_set['Weather_encoded'] = weather_encoder.fit_transform(train_set['Weatherconditions'])\n",
    "train_set['Traffic_encoded'] = traffic_encoder.fit_transform(train_set['Road_traffic_density'])\n",
    "train_set['Festival_encoded'] = festival_encoder.fit_transform(train_set['Festival'])\n",
    "train_set['City_encoded'] = city_encoder.fit_transform(train_set['City'])"
   ]
  },
  {
   "cell_type": "code",
   "execution_count": 25,
   "id": "ea63ad3c",
   "metadata": {},
   "outputs": [],
   "source": [
    "#select numerical features for regression- all features except time_taken(min)\n",
    "features = [\n",
    "    'Delivery_person_Age', 'Delivery_person_Ratings', 'Restaurant_latitude',\n",
    "    'Restaurant_longitude', 'Delivery_location_latitude', 'Delivery_location_longitude',\n",
    "    'Order_day', 'Order_month', 'Hour_order', 'Min_order',\n",
    "    'Hour_order_picked', 'Min_order_picked', 'Weather_encoded', \n",
    "    'Traffic_encoded', 'multiple_deliveries', 'Festival_encoded', 'City_encoded'\n",
    "\n",
    "]"
   ]
  },
  {
   "cell_type": "code",
   "execution_count": 27,
   "id": "9ca95bc7",
   "metadata": {},
   "outputs": [],
   "source": [
    "#prep dataset\n",
    "\n",
    "x_train=train_set[features].values\n",
    "y_train = train_set['Time_taken'].values\n"
   ]
  },
  {
   "cell_type": "markdown",
   "id": "7149c03f",
   "metadata": {},
   "source": [
    "normalise features to be between 0 and 1 using zscore normalisation"
   ]
  },
  {
   "cell_type": "code",
   "execution_count": 28,
   "id": "a9adb99e",
   "metadata": {},
   "outputs": [],
   "source": [
    "#standardise features (needed for gradienr)\n",
    "def zscore_normalize_features(X):\n",
    "  \n",
    "    # find the mean of each column/feature\n",
    "    mu     = np.mean(X, axis=0)                 # mu will have shape (n,)\n",
    "    # find the standard deviation of each column/feature\n",
    "    sigma  = np.std(X, axis=0)                  # sigma will have shape (n,)\n",
    "    # element-wise, subtract mu for that column from each example, divide by std for that column\n",
    "    X_norm = (X - mu) / sigma      \n",
    "\n",
    "    return (X_norm, mu, sigma)"
   ]
  },
  {
   "cell_type": "code",
   "execution_count": 29,
   "id": "3efc6387",
   "metadata": {},
   "outputs": [
    {
     "name": "stdout",
     "output_type": "stream",
     "text": [
      "Delivery_person_Age            float64\n",
      "Delivery_person_Ratings        float64\n",
      "Restaurant_latitude            float64\n",
      "Restaurant_longitude           float64\n",
      "Delivery_location_latitude     float64\n",
      "Delivery_location_longitude    float64\n",
      "Order_day                        int32\n",
      "Order_month                      int32\n",
      "Hour_order                     float64\n",
      "Min_order                      float64\n",
      "Hour_order_picked                int32\n",
      "Min_order_picked                 int32\n",
      "Weather_encoded                  int32\n",
      "Traffic_encoded                  int32\n",
      "multiple_deliveries             object\n",
      "Festival_encoded                 int32\n",
      "City_encoded                     int32\n",
      "dtype: object\n"
     ]
    }
   ],
   "source": [
    "print(train_set[features].dtypes)\n"
   ]
  },
  {
   "cell_type": "code",
   "execution_count": 30,
   "id": "7bef6f99",
   "metadata": {},
   "outputs": [],
   "source": [
    "train_set[features] = train_set[features].apply(pd.to_numeric, errors='coerce')\n"
   ]
  },
  {
   "cell_type": "code",
   "execution_count": 31,
   "id": "2148712a",
   "metadata": {},
   "outputs": [],
   "source": [
    "train_set[features] = train_set[features].fillna(train_set[features].median())\n"
   ]
  },
  {
   "cell_type": "code",
   "execution_count": 41,
   "id": "edbe023e",
   "metadata": {},
   "outputs": [],
   "source": [
    "train_set= train_set.drop(['Delivery_person_ID','Order_Date','Time_Orderd','Time_Order_picked','Restaurant_latitude','Restaurant_longitude','Delivery_location_latitude','Delivery_location_longitude','Time_taken'],axis=1)"
   ]
  },
  {
   "cell_type": "code",
   "execution_count": 42,
   "id": "29039858",
   "metadata": {},
   "outputs": [
    {
     "ename": "KeyError",
     "evalue": "\"['Restaurant_latitude', 'Restaurant_longitude', 'Delivery_location_latitude', 'Delivery_location_longitude'] not in index\"",
     "output_type": "error",
     "traceback": [
      "\u001b[1;31m---------------------------------------------------------------------------\u001b[0m",
      "\u001b[1;31mKeyError\u001b[0m                                  Traceback (most recent call last)",
      "Cell \u001b[1;32mIn[42], line 1\u001b[0m\n\u001b[1;32m----> 1\u001b[0m x_train \u001b[38;5;241m=\u001b[39m \u001b[43mtrain_set\u001b[49m\u001b[43m[\u001b[49m\u001b[43mfeatures\u001b[49m\u001b[43m]\u001b[49m\u001b[38;5;241m.\u001b[39mvalues\n\u001b[0;32m      2\u001b[0m y_train \u001b[38;5;241m=\u001b[39m train_set[\u001b[38;5;124m'\u001b[39m\u001b[38;5;124mTime_taken\u001b[39m\u001b[38;5;124m'\u001b[39m]\u001b[38;5;241m.\u001b[39mvalues\n\u001b[0;32m      3\u001b[0m x_norm, mu, sigma \u001b[38;5;241m=\u001b[39m zscore_normalize_features(x_train)\n",
      "File \u001b[1;32mc:\\Users\\nourm\\anaconda3\\envs\\py310\\lib\\site-packages\\pandas\\core\\frame.py:4113\u001b[0m, in \u001b[0;36mDataFrame.__getitem__\u001b[1;34m(self, key)\u001b[0m\n\u001b[0;32m   4111\u001b[0m     \u001b[38;5;28;01mif\u001b[39;00m is_iterator(key):\n\u001b[0;32m   4112\u001b[0m         key \u001b[38;5;241m=\u001b[39m \u001b[38;5;28mlist\u001b[39m(key)\n\u001b[1;32m-> 4113\u001b[0m     indexer \u001b[38;5;241m=\u001b[39m \u001b[38;5;28;43mself\u001b[39;49m\u001b[38;5;241;43m.\u001b[39;49m\u001b[43mcolumns\u001b[49m\u001b[38;5;241;43m.\u001b[39;49m\u001b[43m_get_indexer_strict\u001b[49m\u001b[43m(\u001b[49m\u001b[43mkey\u001b[49m\u001b[43m,\u001b[49m\u001b[43m \u001b[49m\u001b[38;5;124;43m\"\u001b[39;49m\u001b[38;5;124;43mcolumns\u001b[39;49m\u001b[38;5;124;43m\"\u001b[39;49m\u001b[43m)\u001b[49m[\u001b[38;5;241m1\u001b[39m]\n\u001b[0;32m   4115\u001b[0m \u001b[38;5;66;03m# take() does not accept boolean indexers\u001b[39;00m\n\u001b[0;32m   4116\u001b[0m \u001b[38;5;28;01mif\u001b[39;00m \u001b[38;5;28mgetattr\u001b[39m(indexer, \u001b[38;5;124m\"\u001b[39m\u001b[38;5;124mdtype\u001b[39m\u001b[38;5;124m\"\u001b[39m, \u001b[38;5;28;01mNone\u001b[39;00m) \u001b[38;5;241m==\u001b[39m \u001b[38;5;28mbool\u001b[39m:\n",
      "File \u001b[1;32mc:\\Users\\nourm\\anaconda3\\envs\\py310\\lib\\site-packages\\pandas\\core\\indexes\\base.py:6212\u001b[0m, in \u001b[0;36mIndex._get_indexer_strict\u001b[1;34m(self, key, axis_name)\u001b[0m\n\u001b[0;32m   6209\u001b[0m \u001b[38;5;28;01melse\u001b[39;00m:\n\u001b[0;32m   6210\u001b[0m     keyarr, indexer, new_indexer \u001b[38;5;241m=\u001b[39m \u001b[38;5;28mself\u001b[39m\u001b[38;5;241m.\u001b[39m_reindex_non_unique(keyarr)\n\u001b[1;32m-> 6212\u001b[0m \u001b[38;5;28;43mself\u001b[39;49m\u001b[38;5;241;43m.\u001b[39;49m\u001b[43m_raise_if_missing\u001b[49m\u001b[43m(\u001b[49m\u001b[43mkeyarr\u001b[49m\u001b[43m,\u001b[49m\u001b[43m \u001b[49m\u001b[43mindexer\u001b[49m\u001b[43m,\u001b[49m\u001b[43m \u001b[49m\u001b[43maxis_name\u001b[49m\u001b[43m)\u001b[49m\n\u001b[0;32m   6214\u001b[0m keyarr \u001b[38;5;241m=\u001b[39m \u001b[38;5;28mself\u001b[39m\u001b[38;5;241m.\u001b[39mtake(indexer)\n\u001b[0;32m   6215\u001b[0m \u001b[38;5;28;01mif\u001b[39;00m \u001b[38;5;28misinstance\u001b[39m(key, Index):\n\u001b[0;32m   6216\u001b[0m     \u001b[38;5;66;03m# GH 42790 - Preserve name from an Index\u001b[39;00m\n",
      "File \u001b[1;32mc:\\Users\\nourm\\anaconda3\\envs\\py310\\lib\\site-packages\\pandas\\core\\indexes\\base.py:6264\u001b[0m, in \u001b[0;36mIndex._raise_if_missing\u001b[1;34m(self, key, indexer, axis_name)\u001b[0m\n\u001b[0;32m   6261\u001b[0m     \u001b[38;5;28;01mraise\u001b[39;00m \u001b[38;5;167;01mKeyError\u001b[39;00m(\u001b[38;5;124mf\u001b[39m\u001b[38;5;124m\"\u001b[39m\u001b[38;5;124mNone of [\u001b[39m\u001b[38;5;132;01m{\u001b[39;00mkey\u001b[38;5;132;01m}\u001b[39;00m\u001b[38;5;124m] are in the [\u001b[39m\u001b[38;5;132;01m{\u001b[39;00maxis_name\u001b[38;5;132;01m}\u001b[39;00m\u001b[38;5;124m]\u001b[39m\u001b[38;5;124m\"\u001b[39m)\n\u001b[0;32m   6263\u001b[0m not_found \u001b[38;5;241m=\u001b[39m \u001b[38;5;28mlist\u001b[39m(ensure_index(key)[missing_mask\u001b[38;5;241m.\u001b[39mnonzero()[\u001b[38;5;241m0\u001b[39m]]\u001b[38;5;241m.\u001b[39munique())\n\u001b[1;32m-> 6264\u001b[0m \u001b[38;5;28;01mraise\u001b[39;00m \u001b[38;5;167;01mKeyError\u001b[39;00m(\u001b[38;5;124mf\u001b[39m\u001b[38;5;124m\"\u001b[39m\u001b[38;5;132;01m{\u001b[39;00mnot_found\u001b[38;5;132;01m}\u001b[39;00m\u001b[38;5;124m not in index\u001b[39m\u001b[38;5;124m\"\u001b[39m)\n",
      "\u001b[1;31mKeyError\u001b[0m: \"['Restaurant_latitude', 'Restaurant_longitude', 'Delivery_location_latitude', 'Delivery_location_longitude'] not in index\""
     ]
    }
   ],
   "source": [
    "x_train = train_set[features].values\n",
    "y_train = train_set['Time_taken'].values\n",
    "x_norm, mu, sigma = zscore_normalize_features(x_train)"
   ]
  },
  {
   "cell_type": "markdown",
   "id": "4f7b1828",
   "metadata": {},
   "source": [
    "STEP 4 -TRAIN AND FIT MODEL"
   ]
  },
  {
   "cell_type": "code",
   "execution_count": null,
   "id": "5db974b1",
   "metadata": {},
   "outputs": [
    {
     "ename": "AttributeError",
     "evalue": "'numpy.ndarray' object has no attribute 'drop'",
     "output_type": "error",
     "traceback": [
      "\u001b[1;31m---------------------------------------------------------------------------\u001b[0m",
      "\u001b[1;31mAttributeError\u001b[0m                            Traceback (most recent call last)",
      "Cell \u001b[1;32mIn[40], line 1\u001b[0m\n\u001b[1;32m----> 1\u001b[0m x\u001b[38;5;241m=\u001b[39m \u001b[43mx_train\u001b[49m\u001b[38;5;241;43m.\u001b[39;49m\u001b[43mdrop\u001b[49m([\u001b[38;5;124m'\u001b[39m\u001b[38;5;124mDelivery_person_ID\u001b[39m\u001b[38;5;124m'\u001b[39m,\u001b[38;5;124m'\u001b[39m\u001b[38;5;124mOrder_Date\u001b[39m\u001b[38;5;124m'\u001b[39m,\u001b[38;5;124m'\u001b[39m\u001b[38;5;124mTime_Orderd\u001b[39m\u001b[38;5;124m'\u001b[39m,\u001b[38;5;124m'\u001b[39m\u001b[38;5;124mTime_Order_picked\u001b[39m\u001b[38;5;124m'\u001b[39m,\u001b[38;5;124m'\u001b[39m\u001b[38;5;124mRestaurant_latitude\u001b[39m\u001b[38;5;124m'\u001b[39m,\u001b[38;5;124m'\u001b[39m\u001b[38;5;124mRestaurant_longitude\u001b[39m\u001b[38;5;124m'\u001b[39m,\u001b[38;5;124m'\u001b[39m\u001b[38;5;124mDelivery_location_latitude\u001b[39m\u001b[38;5;124m'\u001b[39m,\u001b[38;5;124m'\u001b[39m\u001b[38;5;124mDelivery_location_longitude\u001b[39m\u001b[38;5;124m'\u001b[39m,\u001b[38;5;124m'\u001b[39m\u001b[38;5;124mTime_taken\u001b[39m\u001b[38;5;124m'\u001b[39m],axis\u001b[38;5;241m=\u001b[39m\u001b[38;5;241m1\u001b[39m)\n",
      "\u001b[1;31mAttributeError\u001b[0m: 'numpy.ndarray' object has no attribute 'drop'"
     ]
    }
   ],
   "source": [
    "\n"
   ]
  },
  {
   "cell_type": "code",
   "execution_count": null,
   "id": "739a4842",
   "metadata": {},
   "outputs": [],
   "source": [
    "model = sequential( [\n",
    "  dense(),\n",
    "  dense(),\n",
    "  dense()\n",
    "])"
   ]
  },
  {
   "cell_type": "markdown",
   "id": "22ef713b",
   "metadata": {},
   "source": [
    "STEP 5 -TEST ON TEST DATA"
   ]
  }
 ],
 "metadata": {
  "kernelspec": {
   "display_name": "py310",
   "language": "python",
   "name": "python3"
  },
  "language_info": {
   "codemirror_mode": {
    "name": "ipython",
    "version": 3
   },
   "file_extension": ".py",
   "mimetype": "text/x-python",
   "name": "python",
   "nbconvert_exporter": "python",
   "pygments_lexer": "ipython3",
   "version": "3.10.18"
  }
 },
 "nbformat": 4,
 "nbformat_minor": 5
}
